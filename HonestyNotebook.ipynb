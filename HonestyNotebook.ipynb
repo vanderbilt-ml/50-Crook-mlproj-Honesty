{
  "nbformat": 4,
  "nbformat_minor": 0,
  "metadata": {
    "colab": {
      "name": "HonestyNotebook.ipynb",
      "provenance": [],
      "collapsed_sections": [],
      "authorship_tag": "ABX9TyOCyv5iQt3tf346UP8bOMAu",
      "include_colab_link": true
    },
    "kernelspec": {
      "name": "python3",
      "display_name": "Python 3"
    },
    "language_info": {
      "name": "python"
    }
  },
  "cells": [
    {
      "cell_type": "markdown",
      "metadata": {
        "id": "view-in-github",
        "colab_type": "text"
      },
      "source": [
        "<a href=\"https://colab.research.google.com/github/vanderbilt-ml/50-Crook-mlproj-Honesty/blob/main/HonestyNotebook.ipynb\" target=\"_parent\"><img src=\"https://colab.research.google.com/assets/colab-badge.svg\" alt=\"Open In Colab\"/></a>"
      ]
    },
    {
      "cell_type": "code",
      "execution_count": null,
      "metadata": {
        "id": "PU9QFKwusubh"
      },
      "outputs": [],
      "source": [
        ""
      ]
    },
    {
      "cell_type": "markdown",
      "source": [
        "# Project Overview\n",
        "This project will attempt to predict a correlation between a person's religion and whether they display personality traits indicitive of Machiavellian tendencies. Included in this prediction will be whether the person considers themselves more introverted or extroverted.\n",
        "\n",
        "## Data Set\n",
        "Machivallianism Test on Kaggle\n",
        "\n",
        "## Performance Measures\n",
        "This will be based on a percentage of people with more honest traits and what their religious preference is along with whether they identify as being more reserved or extroverted."
      ],
      "metadata": {
        "id": "bmN_oGKks2wN"
      }
    }
  ]
}